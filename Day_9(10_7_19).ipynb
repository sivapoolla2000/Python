{
  "nbformat": 4,
  "nbformat_minor": 0,
  "metadata": {
    "colab": {
      "name": "Day-9(10-7-19).ipynb",
      "version": "0.3.2",
      "provenance": [],
      "collapsed_sections": [],
      "include_colab_link": true
    },
    "kernelspec": {
      "name": "python3",
      "display_name": "Python 3"
    }
  },
  "cells": [
    {
      "cell_type": "markdown",
      "metadata": {
        "id": "view-in-github",
        "colab_type": "text"
      },
      "source": [
        "<a href=\"https://colab.research.google.com/github/sivapoolla2000/Python/blob/master/Day_9(10_7_19).ipynb\" target=\"_parent\"><img src=\"https://colab.research.google.com/assets/colab-badge.svg\" alt=\"Open In Colab\"/></a>"
      ]
    },
    {
      "cell_type": "code",
      "metadata": {
        "id": "HbqinYK793BJ",
        "colab_type": "code",
        "outputId": "d73f74ab-d475-4f84-f9af-a41d45284d0f",
        "colab": {
          "base_uri": "https://localhost:8080/",
          "height": 35
        }
      },
      "source": [
        "d1={\"Name\":\"Gitam\",\"Email-id\":\"gitam@gmail.com\",\"Address\":\"Hyderabad\"}\n",
        "print(d1)"
      ],
      "execution_count": 0,
      "outputs": [
        {
          "output_type": "stream",
          "text": [
            "{'Name': 'Gitam', 'Email-id': 'gitam@gmail.com', 'Address': 'Hyderabad'}\n"
          ],
          "name": "stdout"
        }
      ]
    },
    {
      "cell_type": "code",
      "metadata": {
        "id": "f8XCrHWuAUUI",
        "colab_type": "code",
        "outputId": "0ba36711-6497-4021-a575-f383cda82e22",
        "colab": {
          "base_uri": "https://localhost:8080/",
          "height": 35
        }
      },
      "source": [
        "print(len(d1))"
      ],
      "execution_count": 0,
      "outputs": [
        {
          "output_type": "stream",
          "text": [
            "3\n"
          ],
          "name": "stdout"
        }
      ]
    },
    {
      "cell_type": "code",
      "metadata": {
        "id": "MjUsrCW-BP6M",
        "colab_type": "code",
        "outputId": "83af664f-79bf-43b7-b728-a5f1be9ebec9",
        "colab": {
          "base_uri": "https://localhost:8080/",
          "height": 171
        }
      },
      "source": [
        "print(d1[\"Email-id\"])"
      ],
      "execution_count": 0,
      "outputs": [
        {
          "output_type": "error",
          "ename": "KeyError",
          "evalue": "ignored",
          "traceback": [
            "\u001b[0;31m---------------------------------------------------------------------------\u001b[0m",
            "\u001b[0;31mKeyError\u001b[0m                                  Traceback (most recent call last)",
            "\u001b[0;32m<ipython-input-11-e0876d01f7e2>\u001b[0m in \u001b[0;36m<module>\u001b[0;34m()\u001b[0m\n\u001b[0;32m----> 1\u001b[0;31m \u001b[0mprint\u001b[0m\u001b[0;34m(\u001b[0m\u001b[0md1\u001b[0m\u001b[0;34m[\u001b[0m\u001b[0;34m\"Email-id\"\u001b[0m\u001b[0;34m]\u001b[0m\u001b[0;34m)\u001b[0m\u001b[0;34m\u001b[0m\u001b[0;34m\u001b[0m\u001b[0m\n\u001b[0m",
            "\u001b[0;31mKeyError\u001b[0m: 'Email-id'"
          ]
        }
      ]
    },
    {
      "cell_type": "code",
      "metadata": {
        "id": "UVGhH24hBrXH",
        "colab_type": "code",
        "colab": {}
      },
      "source": [
        "del d1[\"Email-id\"]"
      ],
      "execution_count": 0,
      "outputs": []
    },
    {
      "cell_type": "markdown",
      "metadata": {
        "id": "8opOkPw9ByZ2",
        "colab_type": "text"
      },
      "source": [
        "print(d1[\"Email-id\"])"
      ]
    },
    {
      "cell_type": "code",
      "metadata": {
        "id": "vcWJuudkCLjE",
        "colab_type": "code",
        "outputId": "02becc52-5888-40fc-db9d-b77b18abba18",
        "colab": {
          "base_uri": "https://localhost:8080/",
          "height": 35
        }
      },
      "source": [
        "d1"
      ],
      "execution_count": 0,
      "outputs": [
        {
          "output_type": "execute_result",
          "data": {
            "text/plain": [
              "{'Address': 'Hyderabad', 'Name': 'Gitam'}"
            ]
          },
          "metadata": {
            "tags": []
          },
          "execution_count": 8
        }
      ]
    },
    {
      "cell_type": "code",
      "metadata": {
        "id": "ECGj-vyKDeVv",
        "colab_type": "code",
        "outputId": "2eda9a70-c78c-4d62-eeca-287d954581d8",
        "colab": {
          "base_uri": "https://localhost:8080/",
          "height": 35
        }
      },
      "source": [
        "d1.keys()"
      ],
      "execution_count": 0,
      "outputs": [
        {
          "output_type": "execute_result",
          "data": {
            "text/plain": [
              "dict_keys(['Name', 'Address'])"
            ]
          },
          "metadata": {
            "tags": []
          },
          "execution_count": 12
        }
      ]
    },
    {
      "cell_type": "code",
      "metadata": {
        "id": "KSm7f3STEHko",
        "colab_type": "code",
        "outputId": "5df15dac-a901-4727-fd22-b7ef483edecb",
        "colab": {
          "base_uri": "https://localhost:8080/",
          "height": 35
        }
      },
      "source": [
        "d1.values()"
      ],
      "execution_count": 0,
      "outputs": [
        {
          "output_type": "execute_result",
          "data": {
            "text/plain": [
              "dict_values(['Gitam', 'Hyderabad'])"
            ]
          },
          "metadata": {
            "tags": []
          },
          "execution_count": 13
        }
      ]
    },
    {
      "cell_type": "code",
      "metadata": {
        "id": "vbLS_MKcEHfo",
        "colab_type": "code",
        "outputId": "24799c36-e9ff-4413-fbb2-5fdce33617fa",
        "colab": {
          "base_uri": "https://localhost:8080/",
          "height": 35
        }
      },
      "source": [
        "d1.items()"
      ],
      "execution_count": 0,
      "outputs": [
        {
          "output_type": "execute_result",
          "data": {
            "text/plain": [
              "dict_items([('Name', 'Gitam'), ('Address', 'Hyderabad')])"
            ]
          },
          "metadata": {
            "tags": []
          },
          "execution_count": 14
        }
      ]
    },
    {
      "cell_type": "code",
      "metadata": {
        "id": "eo3hUS3uEHat",
        "colab_type": "code",
        "outputId": "fcc9da97-0ebb-4a8d-9b27-935ed905028b",
        "colab": {
          "base_uri": "https://localhost:8080/",
          "height": 35
        }
      },
      "source": [
        "t1=(1,2,3,4,5,6)\n",
        "t1\n",
        "type(t1)"
      ],
      "execution_count": 0,
      "outputs": [
        {
          "output_type": "execute_result",
          "data": {
            "text/plain": [
              "tuple"
            ]
          },
          "metadata": {
            "tags": []
          },
          "execution_count": 16
        }
      ]
    },
    {
      "cell_type": "code",
      "metadata": {
        "id": "KH7lp46rEHXE",
        "colab_type": "code",
        "outputId": "8617346a-1041-480d-d83e-e81af6741680",
        "colab": {
          "base_uri": "https://localhost:8080/",
          "height": 72
        }
      },
      "source": [
        "contacts={}\n",
        "def addcontact(name,phone):\n",
        "  if name and phone not in contacts:\n",
        "    contacts[name]=phone\n",
        "    print(\"contact details are added\")\n",
        "  else:\n",
        "    print(\"This contact already exists\")\n",
        "  return\n",
        "addcontact(\"suhas\",65986)\n",
        "addcontact(\"rakesh\",84516)\n",
        "addcontact(\"mohini\",95986)"
      ],
      "execution_count": 0,
      "outputs": [
        {
          "output_type": "stream",
          "text": [
            "contact details are added\n",
            "contact details are added\n",
            "contact details are added\n"
          ],
          "name": "stdout"
        }
      ]
    },
    {
      "cell_type": "code",
      "metadata": {
        "id": "yN4F6dBeEHSV",
        "colab_type": "code",
        "outputId": "20d43fff-07c6-4900-9517-17f29412f41e",
        "colab": {
          "base_uri": "https://localhost:8080/",
          "height": 35
        }
      },
      "source": [
        "def search(name):\n",
        "  if name in contacts:\n",
        "    print(\" \",name)\n",
        "  else :\n",
        "    print(\"contact does'nt exist:\",name)\n",
        "  return\n",
        "search('mohan')"
      ],
      "execution_count": 0,
      "outputs": [
        {
          "output_type": "stream",
          "text": [
            "contact does'nt exist: mohan\n"
          ],
          "name": "stdout"
        }
      ]
    },
    {
      "cell_type": "code",
      "metadata": {
        "id": "05DETNezEHLn",
        "colab_type": "code",
        "outputId": "899cbd49-d338-4c85-ddc4-c15c689205b2",
        "colab": {
          "base_uri": "https://localhost:8080/",
          "height": 35
        }
      },
      "source": [
        "tdef importc(newcontact):\n",
        "  contacts.update(newcontact)\n",
        "  print(len(newcontact.keys()),\"contact is added\")\n",
        "  return\n",
        "newcontact={\"sunny\":98986}\n",
        "importc(newcontact)"
      ],
      "execution_count": 0,
      "outputs": [
        {
          "output_type": "stream",
          "text": [
            "1 contact is added\n"
          ],
          "name": "stdout"
        }
      ]
    },
    {
      "cell_type": "code",
      "metadata": {
        "id": "pdbBv6DrEHFK",
        "colab_type": "code",
        "colab": {}
      },
      "source": [
        "def delete(name):\n",
        "  if name in contacts:\n",
        "    del contacts[name]\n",
        "  else:\n",
        "    print(\"This name does'nt exist\",name)\n",
        "    return\n",
        "delete('sunny')  \n"
      ],
      "execution_count": 0,
      "outputs": []
    },
    {
      "cell_type": "code",
      "metadata": {
        "id": "PQAyEnTAPpF7",
        "colab_type": "code",
        "outputId": "a2f77595-5fa7-45e8-fed6-0d898707e6d9",
        "colab": {
          "base_uri": "https://localhost:8080/",
          "height": 35
        }
      },
      "source": [
        "contacts"
      ],
      "execution_count": 0,
      "outputs": [
        {
          "output_type": "execute_result",
          "data": {
            "text/plain": [
              "{'mohini': 95986, 'rakesh': 84516, 'suhas': 65986}"
            ]
          },
          "metadata": {
            "tags": []
          },
          "execution_count": 48
        }
      ]
    },
    {
      "cell_type": "code",
      "metadata": {
        "id": "keYHoBnAPpDR",
        "colab_type": "code",
        "outputId": "2c4ffe42-8cc8-446c-9762-cde89108ad4b",
        "colab": {
          "base_uri": "https://localhost:8080/",
          "height": 54
        }
      },
      "source": [
        "s1='Gitam'\n",
        "print(s1.upper())\n",
        "print(s1.lower())\n"
      ],
      "execution_count": 0,
      "outputs": [
        {
          "output_type": "stream",
          "text": [
            "GITAM\n",
            "gitam\n"
          ],
          "name": "stdout"
        }
      ]
    },
    {
      "cell_type": "code",
      "metadata": {
        "id": "W_hkXyRdpnZh",
        "colab_type": "code",
        "outputId": "da81b92d-a574-468b-c01a-9614cdffacbe",
        "colab": {
          "base_uri": "https://localhost:8080/",
          "height": 126
        }
      },
      "source": [
        "s1='gitam'\n",
        "print(s1.islower())\n",
        "print(s1.isupper())\n",
        "print(s1.istitle())\n",
        "print(s1.isalpha())\n",
        "print(s1.isnumeric())\n",
        "print(s1.isspace())\n"
      ],
      "execution_count": 0,
      "outputs": [
        {
          "output_type": "stream",
          "text": [
            "True\n",
            "False\n",
            "False\n",
            "True\n",
            "False\n",
            "False\n"
          ],
          "name": "stdout"
        }
      ]
    },
    {
      "cell_type": "code",
      "metadata": {
        "id": "l8dywUAppnQI",
        "colab_type": "code",
        "outputId": "5a7660f3-b999-4846-f5b3-467aaa23174a",
        "colab": {
          "base_uri": "https://localhost:8080/",
          "height": 35
        }
      },
      "source": [
        "s2=\"python is easy\"\n",
        "print(\",\".join(s2))\n"
      ],
      "execution_count": 0,
      "outputs": [
        {
          "output_type": "stream",
          "text": [
            "p,y,t,h,o,n, ,i,s, ,e,a,s,y\n"
          ],
          "name": "stdout"
        }
      ]
    },
    {
      "cell_type": "code",
      "metadata": {
        "id": "3fHJMXviPo8N",
        "colab_type": "code",
        "outputId": "7abddfc5-acd1-4dc7-cff2-c4bd0b5adfd6",
        "colab": {
          "base_uri": "https://localhost:8080/",
          "height": 35
        }
      },
      "source": [
        "import random\n",
        "def randomnumber(n,lb,ub):\n",
        "  for i in range(0,n):\n",
        "    print(random.randint(lb,ub),end=\" \")\n",
        "  return\n",
        "randomnumber(10,0,100)"
      ],
      "execution_count": 0,
      "outputs": [
        {
          "output_type": "stream",
          "text": [
            "97 90 18 83 23 10 16 34 16 5 "
          ],
          "name": "stdout"
        }
      ]
    },
    {
      "cell_type": "code",
      "metadata": {
        "id": "ag7ViOdUVYfy",
        "colab_type": "code",
        "outputId": "4a8c37cf-6586-4f92-bef0-8afbeb97683e",
        "colab": {
          "base_uri": "https://localhost:8080/",
          "height": 35
        }
      },
      "source": [
        "def generatenumber(n,lb,ub):\n",
        "  li=[]\n",
        "  for i in range (0,n):\n",
        "    li.append(randomrandint(lb,ub))\n",
        "  return li\n",
        "def check(n):\n",
        "  if n in li:\n",
        "    return \"congrats\"\n",
        "  else:\n",
        "    return \"try again\"\n",
        "  return\n",
        "check(15)\n",
        "  \n",
        "\n"
      ],
      "execution_count": 0,
      "outputs": [
        {
          "output_type": "execute_result",
          "data": {
            "text/plain": [
              "'try again'"
            ]
          },
          "metadata": {
            "tags": []
          },
          "execution_count": 70
        }
      ]
    },
    {
      "cell_type": "code",
      "metadata": {
        "id": "0XEMFUh9pbbh",
        "colab_type": "code",
        "colab": {}
      },
      "source": [
        ""
      ],
      "execution_count": 0,
      "outputs": []
    },
    {
      "cell_type": "code",
      "metadata": {
        "id": "z_mOYtZ-pbWB",
        "colab_type": "code",
        "colab": {}
      },
      "source": [
        ""
      ],
      "execution_count": 0,
      "outputs": []
    },
    {
      "cell_type": "code",
      "metadata": {
        "id": "bs8dPhN-pbQv",
        "colab_type": "code",
        "colab": {}
      },
      "source": [
        ""
      ],
      "execution_count": 0,
      "outputs": []
    },
    {
      "cell_type": "code",
      "metadata": {
        "id": "7YYO4u3apbLt",
        "colab_type": "code",
        "colab": {}
      },
      "source": [
        ""
      ],
      "execution_count": 0,
      "outputs": []
    },
    {
      "cell_type": "code",
      "metadata": {
        "id": "5Yv5e_FmpbH-",
        "colab_type": "code",
        "colab": {}
      },
      "source": [
        ""
      ],
      "execution_count": 0,
      "outputs": []
    },
    {
      "cell_type": "code",
      "metadata": {
        "id": "SDC_J1mEpbEU",
        "colab_type": "code",
        "colab": {}
      },
      "source": [
        ""
      ],
      "execution_count": 0,
      "outputs": []
    },
    {
      "cell_type": "code",
      "metadata": {
        "id": "WqWr-yxvpbA7",
        "colab_type": "code",
        "colab": {}
      },
      "source": [
        ""
      ],
      "execution_count": 0,
      "outputs": []
    },
    {
      "cell_type": "code",
      "metadata": {
        "id": "9gqbDEIgpa7z",
        "colab_type": "code",
        "colab": {}
      },
      "source": [
        ""
      ],
      "execution_count": 0,
      "outputs": []
    },
    {
      "cell_type": "code",
      "metadata": {
        "id": "pPNM_3Oppa3p",
        "colab_type": "code",
        "colab": {}
      },
      "source": [
        ""
      ],
      "execution_count": 0,
      "outputs": []
    },
    {
      "cell_type": "code",
      "metadata": {
        "id": "qc0f7z6mq_x8",
        "colab_type": "code",
        "colab": {}
      },
      "source": [
        ""
      ],
      "execution_count": 0,
      "outputs": []
    }
  ]
}