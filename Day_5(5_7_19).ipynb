{
  "nbformat": 4,
  "nbformat_minor": 0,
  "metadata": {
    "colab": {
      "name": "Day 5(5-7-19)",
      "version": "0.3.2",
      "provenance": [],
      "collapsed_sections": [],
      "include_colab_link": true
    },
    "kernelspec": {
      "name": "python3",
      "display_name": "Python 3"
    }
  },
  "cells": [
    {
      "cell_type": "markdown",
      "metadata": {
        "id": "view-in-github",
        "colab_type": "text"
      },
      "source": [
        "<a href=\"https://colab.research.google.com/github/sivapoolla2000/Python/blob/master/Day_5(5_7_19).ipynb\" target=\"_parent\"><img src=\"https://colab.research.google.com/assets/colab-badge.svg\" alt=\"Open In Colab\"/></a>"
      ]
    },
    {
      "cell_type": "code",
      "metadata": {
        "id": "_T7L69MhymA8",
        "colab_type": "code",
        "colab": {}
      },
      "source": [
        ""
      ],
      "execution_count": 0,
      "outputs": []
    },
    {
      "cell_type": "markdown",
      "metadata": {
        "id": "t0YHBX6vzpUr",
        "colab_type": "text"
      },
      "source": [
        "# Markdown basics\n",
        "## Markdown basics\n",
        "###Markdown basics\n",
        "####Markdown basics\n",
        "\n",
        "* ***Point3***\n",
        "*Normal Text\n",
        " *Sublist 1\n",
        " *Sublist 2\n",
        " \n",
        " >1.point1\n",
        " >2.point2\n",
        " * ***Adding links to Markdown***\n",
        " *Google site -- .[1].:https://www.google.com\n",
        " *msn site -- .[2].:http://www.msn.com\n",
        " -.[.].option 1\n",
        " \n",
        " *Google Site -- [Google].[1]\n",
        " [1]:http://www.google.com"
      ]
    },
    {
      "cell_type": "code",
      "metadata": {
        "id": "wVtuRiNx33qi",
        "colab_type": "code",
        "outputId": "f95b492a-cb94-488e-8be8-d80d0b35854e",
        "colab": {
          "base_uri": "https://localhost:8080/",
          "height": 34
        }
      },
      "source": [
        "In[1]: print(\"hello world\")\n"
      ],
      "execution_count": 0,
      "outputs": [
        {
          "output_type": "stream",
          "text": [
            "hello world\n"
          ],
          "name": "stdout"
        }
      ]
    },
    {
      "cell_type": "code",
      "metadata": {
        "id": "2ViyZkeL4Wdy",
        "colab_type": "code",
        "outputId": "8e15b4e7-bc8b-4f15-8db7-1a07abc979d7",
        "colab": {
          "base_uri": "https://localhost:8080/",
          "height": 51
        }
      },
      "source": [
        "In[2]: print(\"Hello,Gitam\")\n",
        "print(\"Hyderabad\")\n",
        "    "
      ],
      "execution_count": 0,
      "outputs": [
        {
          "output_type": "stream",
          "text": [
            "Hello,Gitam\n",
            "Hyderabad\n"
          ],
          "name": "stdout"
        }
      ]
    },
    {
      "cell_type": "code",
      "metadata": {
        "id": "4XnNIUHG2_wc",
        "colab_type": "code",
        "outputId": "d63984ad-16fe-457d-b0c5-2299e1ada1b6",
        "colab": {
          "base_uri": "https://localhost:8080/",
          "height": 68
        }
      },
      "source": [
        "n1=100 # single Variable Assignment\n",
        "a = b = c=20 # multi variable assignment of the same value\n",
        "print(n1)\n",
        "print(a,b,c)\n",
        "print(a1,b1,c1)"
      ],
      "execution_count": 0,
      "outputs": [
        {
          "output_type": "stream",
          "text": [
            "100\n",
            "20 20 20\n",
            "111 222 333\n"
          ],
          "name": "stdout"
        }
      ]
    },
    {
      "cell_type": "code",
      "metadata": {
        "id": "MjNPBNve78lA",
        "colab_type": "code",
        "outputId": "f5ff53b1-b765-4491-e840-a4668fa6e497",
        "colab": {
          "base_uri": "https://localhost:8080/",
          "height": 34
        }
      },
      "source": [
        "n1=100\n",
        "print(n1)"
      ],
      "execution_count": 0,
      "outputs": [
        {
          "output_type": "stream",
          "text": [
            "100\n"
          ],
          "name": "stdout"
        }
      ]
    },
    {
      "cell_type": "code",
      "metadata": {
        "id": "mDOM4pwq72IY",
        "colab_type": "code",
        "outputId": "f4fc2817-2ed0-458e-8416-09a56c2d821a",
        "colab": {
          "base_uri": "https://localhost:8080/",
          "height": 34
        }
      },
      "source": [
        "a1,b1,c1 = (111,222,333) # multi variable assignment with the different values \n",
        "print(a1,b1,c1)"
      ],
      "execution_count": 0,
      "outputs": [
        {
          "output_type": "stream",
          "text": [
            "111 222 333\n"
          ],
          "name": "stdout"
        }
      ]
    },
    {
      "cell_type": "code",
      "metadata": {
        "id": "WWUzsQN28F2s",
        "colab_type": "code",
        "outputId": "e223fc64-57db-4e5d-db46-1ccfd9184771",
        "colab": {
          "base_uri": "https://localhost:8080/",
          "height": 51
        }
      },
      "source": [
        "a=100\n",
        "s1=\"python\"\n",
        "s2='p'\n",
        "f1=10.2\n",
        "print(a,s1,s2,f1)\n",
        "print(type(a),type(s1),type(s2),type(f1))\n"
      ],
      "execution_count": 0,
      "outputs": [
        {
          "output_type": "stream",
          "text": [
            "100 python p 10.2\n",
            "<class 'int'> <class 'str'> <class 'str'> <class 'float'>\n"
          ],
          "name": "stdout"
        }
      ]
    },
    {
      "cell_type": "code",
      "metadata": {
        "id": "JNYXTHL1Urn_",
        "colab_type": "code",
        "outputId": "5d9245a7-f215-4166-b981-2ada7f4698d3",
        "colab": {
          "base_uri": "https://localhost:8080/",
          "height": 85
        }
      },
      "source": [
        "s1=100\n",
        "print(type(s1))\n",
        "a=int(s1)\n",
        "print(type(a))\n",
        "f=1.5\n",
        "a1=int(f)\n",
        "print(type(a1))\n",
        "print(a1)"
      ],
      "execution_count": 0,
      "outputs": [
        {
          "output_type": "stream",
          "text": [
            "<class 'int'>\n",
            "<class 'int'>\n",
            "<class 'int'>\n",
            "1\n"
          ],
          "name": "stdout"
        }
      ]
    },
    {
      "cell_type": "code",
      "metadata": {
        "id": "cAvmmDrVTq1J",
        "colab_type": "code",
        "outputId": "1fb858e5-2017-430b-c5bb-8d1951bac37d",
        "colab": {
          "base_uri": "https://localhost:8080/",
          "height": 34
        }
      },
      "source": [
        "a1=1234\n",
        "print(len(str(a1)))\n"
      ],
      "execution_count": 0,
      "outputs": [
        {
          "output_type": "stream",
          "text": [
            "4\n"
          ],
          "name": "stdout"
        }
      ]
    },
    {
      "cell_type": "code",
      "metadata": {
        "id": "WczQtBDnXHnH",
        "colab_type": "code",
        "outputId": "389ae02a-11dc-4f54-86da-79ea407072c4",
        "colab": {
          "base_uri": "https://localhost:8080/",
          "height": 68
        }
      },
      "source": [
        "s1=input(\"Enter the name\")\n",
        "print(s1)\n",
        "print(type(s1))"
      ],
      "execution_count": 0,
      "outputs": [
        {
          "output_type": "stream",
          "text": [
            "Enter the nameSiva\n",
            "Siva\n",
            "<class 'str'>\n"
          ],
          "name": "stdout"
        }
      ]
    },
    {
      "cell_type": "code",
      "metadata": {
        "id": "tXIjtiIAZYt4",
        "colab_type": "code",
        "outputId": "37293f8b-ba79-4a8c-a11c-c8a7e5e09852",
        "colab": {
          "base_uri": "https://localhost:8080/",
          "height": 51
        }
      },
      "source": [
        "n1=print(\"Enter a number\")\n",
        "print(n1,type(n1))"
      ],
      "execution_count": 0,
      "outputs": [
        {
          "output_type": "stream",
          "text": [
            "Enter a number\n",
            "None <class 'NoneType'>\n"
          ],
          "name": "stdout"
        }
      ]
    },
    {
      "cell_type": "code",
      "metadata": {
        "id": "vYZkJa09Z5Sp",
        "colab_type": "code",
        "outputId": "7c6e0097-5ca5-47c8-9f08-2bebe7a02a0f",
        "colab": {
          "base_uri": "https://localhost:8080/",
          "height": 136
        }
      },
      "source": [
        "n1=1234\n",
        "print(n1+10)\n",
        "print(n1-10)\n",
        "print(n1*10)\n",
        "print(n1/10)\n",
        "print(n1%10)\n",
        "print(n1//10)\n",
        "print(n1**10)\n"
      ],
      "execution_count": 0,
      "outputs": [
        {
          "output_type": "stream",
          "text": [
            "1244\n",
            "1224\n",
            "12340\n",
            "123.4\n",
            "4\n",
            "123\n",
            "8187505353567209228244052427776\n"
          ],
          "name": "stdout"
        }
      ]
    },
    {
      "cell_type": "code",
      "metadata": {
        "id": "5Jlr2tLKd5FX",
        "colab_type": "code",
        "outputId": "2e98e28a-676f-4f65-8ba0-57c1c66c4ade",
        "colab": {
          "base_uri": "https://localhost:8080/",
          "height": 34
        }
      },
      "source": [
        "x=1+2**3/4*5\n",
        "print(x)"
      ],
      "execution_count": 0,
      "outputs": [
        {
          "output_type": "stream",
          "text": [
            "11.0\n"
          ],
          "name": "stdout"
        }
      ]
    },
    {
      "cell_type": "code",
      "metadata": {
        "id": "7t-lajR0eU9z",
        "colab_type": "code",
        "outputId": "dd8487e2-2bd5-4c98-c38f-f193304fb021",
        "colab": {
          "base_uri": "https://localhost:8080/",
          "height": 34
        }
      },
      "source": [
        "x=1+2**3/4+5\n",
        "print(x)"
      ],
      "execution_count": 0,
      "outputs": [
        {
          "output_type": "stream",
          "text": [
            "8.0\n"
          ],
          "name": "stdout"
        }
      ]
    },
    {
      "cell_type": "code",
      "metadata": {
        "id": "gMlmJMJnjlrE",
        "colab_type": "code",
        "outputId": "68e2f8c4-dd18-4a42-ad56-c421b544837d",
        "colab": {
          "base_uri": "https://localhost:8080/",
          "height": 51
        }
      },
      "source": [
        "i=100\n",
        "a1=(i>20)and(i<900)\n",
        "a2=(i>30)and(i>999)\n",
        "print(a1)\n",
        "print(a2)"
      ],
      "execution_count": 0,
      "outputs": [
        {
          "output_type": "stream",
          "text": [
            "True\n",
            "False\n"
          ],
          "name": "stdout"
        }
      ]
    },
    {
      "cell_type": "code",
      "metadata": {
        "id": "UEXStkwamDuc",
        "colab_type": "code",
        "outputId": "1e5be986-406f-43a4-dd82-81cd54371df4",
        "colab": {
          "base_uri": "https://localhost:8080/",
          "height": 51
        }
      },
      "source": [
        "n=int(input(\"enter a number\"))\n",
        "if n%2==0:\n",
        "  print(\"even\")\n",
        "else:\n",
        "3  print(\"odd\")"
      ],
      "execution_count": 0,
      "outputs": [
        {
          "output_type": "stream",
          "text": [
            "enter a number2\n",
            "even\n"
          ],
          "name": "stdout"
        }
      ]
    },
    {
      "cell_type": "code",
      "metadata": {
        "id": "0NkPUYEsn-A0",
        "colab_type": "code",
        "outputId": "de144c38-a342-4058-e785-623f605d65bb",
        "colab": {
          "base_uri": "https://localhost:8080/",
          "height": 51
        }
      },
      "source": [
        "n=int(input(\"enter a number\"))\n",
        "if n%3==0 and n%5==0:\n",
        "  print(\"yes\")\n",
        "else:\n",
        "  print(\"no\")"
      ],
      "execution_count": 0,
      "outputs": [
        {
          "output_type": "stream",
          "text": [
            "enter a number7\n",
            "no\n"
          ],
          "name": "stdout"
        }
      ]
    },
    {
      "cell_type": "code",
      "metadata": {
        "id": "iKGqRMShpsVn",
        "colab_type": "code",
        "outputId": "f7c23e4a-bcec-4a5c-aed4-ab3194b7d332",
        "colab": {
          "base_uri": "https://localhost:8080/",
          "height": 51
        }
      },
      "source": [
        "n=int(input(\"enter the number\"))\n",
        "if n==0:\n",
        " print(\"zero\")\n",
        "elif n<0:\n",
        " print(\"-ve\")\n",
        "else:\n",
        "  print(\"+ve\")"
      ],
      "execution_count": 0,
      "outputs": [
        {
          "output_type": "stream",
          "text": [
            "enter the number-2\n",
            "-ve\n"
          ],
          "name": "stdout"
        }
      ]
    }
  ]
}