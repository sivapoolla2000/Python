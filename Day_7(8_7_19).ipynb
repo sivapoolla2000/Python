{
  "nbformat": 4,
  "nbformat_minor": 0,
  "metadata": {
    "colab": {
      "name": "Day-7(8-7-19).ipynb",
      "version": "0.3.2",
      "provenance": [],
      "include_colab_link": true
    },
    "kernelspec": {
      "name": "python3",
      "display_name": "Python 3"
    }
  },
  "cells": [
    {
      "cell_type": "markdown",
      "metadata": {
        "id": "view-in-github",
        "colab_type": "text"
      },
      "source": [
        "<a href=\"https://colab.research.google.com/github/sivapoolla2000/Python/blob/master/Day_7(8_7_19).ipynb\" target=\"_parent\"><img src=\"https://colab.research.google.com/assets/colab-badge.svg\" alt=\"Open In Colab\"/></a>"
      ]
    },
    {
      "cell_type": "code",
      "metadata": {
        "id": "EnnS8lJkvVm0",
        "colab_type": "code",
        "outputId": "f5dc4a87-bcc0-4f79-f252-4bdbaeef73e0",
        "colab": {
          "base_uri": "https://localhost:8080/",
          "height": 34
        }
      },
      "source": [
        "def primeCount(n):\n",
        "  cnt=0\n",
        "  for  a in range (2,n+1):\n",
        "     k=0\n",
        "     for i in range (2,a//2+1):\n",
        "       if a%i==0:\n",
        "         k=k+1\n",
        "     if (k<=0):\n",
        "       cnt=cnt+1\n",
        "  return cnt \n",
        "primeCount(10)     "
      ],
      "execution_count": 0,
      "outputs": [
        {
          "output_type": "execute_result",
          "data": {
            "text/plain": [
              "4"
            ]
          },
          "metadata": {
            "tags": []
          },
          "execution_count": 15
        }
      ]
    },
    {
      "cell_type": "code",
      "metadata": {
        "id": "_7tV_KGx1epC",
        "colab_type": "code",
        "outputId": "391e6347-c0bf-4cf0-fd9a-bd47c085ff17",
        "colab": {
          "base_uri": "https://localhost:8080/",
          "height": 34
        }
      },
      "source": [
        "def isprime(n):\n",
        "  flag=True\n",
        "  for i in range(2,n//2+1):\n",
        "    if n%i==0:\n",
        "      flag=False\n",
        "  return flag\n",
        "isprime(11)    \n",
        "  "
      ],
      "execution_count": 0,
      "outputs": [
        {
          "output_type": "execute_result",
          "data": {
            "text/plain": [
              "True"
            ]
          },
          "metadata": {
            "tags": []
          },
          "execution_count": 13
        }
      ]
    },
    {
      "cell_type": "code",
      "metadata": {
        "id": "cpePciy95s5Y",
        "colab_type": "code",
        "outputId": "e4fc874a-bef5-4efd-c954-b67eabbdc95e",
        "colab": {
          "base_uri": "https://localhost:8080/",
          "height": 51
        }
      },
      "source": [
        "def factorial(n):\n",
        "  fact =1\n",
        "  for i in range(2,n+1):\n",
        "    fact*=i\n",
        "  return fact\n",
        "def digitfactsum(n):\n",
        "    sum=0\n",
        "    buffer=n\n",
        "    while n!=0:\n",
        "      r=n%10\n",
        "      sum+=factorial(r)\n",
        "      n=n//10\n",
        "    if sum==buffer:\n",
        "      return \"yes\"\n",
        "    else:\n",
        "      return \"no\"\n",
        "    return\n",
        "print(digitfactsum(145))\n",
        "print(digitfactsum(123))"
      ],
      "execution_count": 0,
      "outputs": [
        {
          "output_type": "stream",
          "text": [
            "yes\n",
            "no\n"
          ],
          "name": "stdout"
        }
      ]
    },
    {
      "cell_type": "code",
      "metadata": {
        "id": "YfxEw1qR_HbY",
        "colab_type": "code",
        "outputId": "70d0f95c-11ae-4004-ef4d-367fddcf8498",
        "colab": {
          "base_uri": "https://localhost:8080/",
          "height": 129
        }
      },
      "source": [
        "def ispalindrome(n):\n",
        "  rev=0\n",
        "  buffer=n\n",
        "  while n!=0:\n",
        "    r=n%10\n",
        "    rev=rev*10+r\n",
        "    n=n//10\n",
        "  if rev==buffer:\n",
        "    return True\n",
        "  else:\n",
        "    return False\n",
        "   return"
      ],
      "execution_count": 0,
      "outputs": [
        {
          "output_type": "error",
          "ename": "IndentationError",
          "evalue": "ignored",
          "traceback": [
            "\u001b[0;36m  File \u001b[0;32m\"<ipython-input-31-16a3e4701550>\"\u001b[0;36m, line \u001b[0;32m12\u001b[0m\n\u001b[0;31m    return\u001b[0m\n\u001b[0m          ^\u001b[0m\n\u001b[0;31mIndentationError\u001b[0m\u001b[0;31m:\u001b[0m unindent does not match any outer indentation level\n"
          ]
        }
      ]
    },
    {
      "cell_type": "code",
      "metadata": {
        "id": "1uM3TxGaBm-h",
        "colab_type": "code",
        "colab": {}
      },
      "source": [
        "def factorslist(n):\n",
        "  sum=0\n",
        "  for i in range(1,n//2+1):\n",
        "    if n%i==0:\n",
        "      sum=sum+i\n",
        "  return sum    "
      ],
      "execution_count": 0,
      "outputs": []
    },
    {
      "cell_type": "code",
      "metadata": {
        "id": "U2AkpBkKX3Vl",
        "colab_type": "code",
        "outputId": "bc5df57b-0e34-4ee1-99e1-2f26347ee2e7",
        "colab": {
          "base_uri": "https://localhost:8080/",
          "height": 85
        }
      },
      "source": [
        "s1='Python'\n",
        "print(s1[0])\n",
        "print(s1[1])\n",
        "print(s1[5])\n",
        "print(s1[len(s1)-1])"
      ],
      "execution_count": 0,
      "outputs": [
        {
          "output_type": "stream",
          "text": [
            "P\n",
            "y\n",
            "n\n",
            "n\n"
          ],
          "name": "stdout"
        }
      ]
    },
    {
      "cell_type": "code",
      "metadata": {
        "id": "lgIHBI7xa3jN",
        "colab_type": "code",
        "outputId": "9071d2c1-7c4d-40d8-fe82-a9f22cf739ee",
        "colab": {
          "base_uri": "https://localhost:8080/",
          "height": 136
        }
      },
      "source": [
        "print(s1[-1])\n",
        "print(s1[-2])\n",
        "print(s1[-5])\n",
        "print(s1[0])\n",
        "print(s1[0:2])\n",
        "print(s1[1:-1])\n",
        "print(s1[::2])"
      ],
      "execution_count": 0,
      "outputs": [
        {
          "output_type": "stream",
          "text": [
            "n\n",
            "o\n",
            "y\n",
            "P\n",
            "Py\n",
            "ytho\n",
            "Pto\n"
          ],
          "name": "stdout"
        }
      ]
    },
    {
      "cell_type": "code",
      "metadata": {
        "id": "jHL6KMzbeE_7",
        "colab_type": "code",
        "outputId": "e657fa59-a139-4f8f-a4ee-d4ce7b7a0022",
        "colab": {
          "base_uri": "https://localhost:8080/",
          "height": 51
        }
      },
      "source": [
        "def ispalindrome(str):\n",
        "  if str==str[::1]:\n",
        "    return True\n",
        "  else :\n",
        "    return False\n",
        "  return\n",
        "print(ispalindrome(\"python\"))\n",
        "print(ispalindrome(\"jnrgj\"))"
      ],
      "execution_count": 0,
      "outputs": [
        {
          "output_type": "stream",
          "text": [
            "True\n",
            "True\n"
          ],
          "name": "stdout"
        }
      ]
    },
    {
      "cell_type": "code",
      "metadata": {
        "id": "bB3ftIxXwqjk",
        "colab_type": "code",
        "outputId": "544c4964-78c0-4aa4-f55e-b911618138e2",
        "colab": {
          "base_uri": "https://localhost:8080/",
          "height": 34
        }
      },
      "source": [
        "def printupper(x):\n",
        "  for i in range (len(x)):\n",
        "    if ord(x[i])>=65 and ord(x[i])<=90:\n",
        "      print(x[i],end=\" \")\n",
        "  return\n",
        "printupper(\"PYTHON \")"
      ],
      "execution_count": 0,
      "outputs": [
        {
          "output_type": "stream",
          "text": [
            "P Y T H O N "
          ],
          "name": "stdout"
        }
      ]
    },
    {
      "cell_type": "code",
      "metadata": {
        "id": "9Od-zHAFzfbR",
        "colab_type": "code",
        "colab": {}
      },
      "source": [
        "def extractdigits(str):\n",
        "  for x in range(len(str)):\n",
        "    \n",
        "    "
      ],
      "execution_count": 0,
      "outputs": []
    },
    {
      "cell_type": "code",
      "metadata": {
        "id": "xMjXHLil9p01",
        "colab_type": "code",
        "outputId": "ce7ccaba-07ac-4eed-e0c0-589d1910f7d9",
        "colab": {
          "base_uri": "https://localhost:8080/",
          "height": 34
        }
      },
      "source": [
        "def sumofdigits(str):\n",
        " sum=0\n",
        " for x in range(len(str)):\n",
        "  if ord (str[x])>=48 and ord (str[x])<=57:\n",
        "    sum=sum+(ord(str[x])-48)\n",
        " return sum\n",
        "sumofdigits('Appli1cat8ion89')"
      ],
      "execution_count": 0,
      "outputs": [
        {
          "output_type": "execute_result",
          "data": {
            "text/plain": [
              "26"
            ]
          },
          "metadata": {
            "tags": []
          },
          "execution_count": 56
        }
      ]
    },
    {
      "cell_type": "code",
      "metadata": {
        "id": "aoc-LgAQAFO1",
        "colab_type": "code",
        "colab": {
          "base_uri": "https://localhost:8080/",
          "height": 34
        },
        "outputId": "4a3d2baf-23cb-49ba-8804-f54f05065963"
      },
      "source": [
        "def sumofdigits(str):\n",
        " sum=0\n",
        " for x in range(len(str)):\n",
        "  if ord (str[x])>=48 and ord (str[x])<=57:\n",
        "    if (ord(str[x])-48)%2==0:\n",
        "     sum=sum+(ord(str[x])-48)\n",
        " return sum\n",
        "sumofdigits('Appli1cat8ion89')"
      ],
      "execution_count": 57,
      "outputs": [
        {
          "output_type": "execute_result",
          "data": {
            "text/plain": [
              "16"
            ]
          },
          "metadata": {
            "tags": []
          },
          "execution_count": 57
        }
      ]
    },
    {
      "cell_type": "code",
      "metadata": {
        "id": "YrIxZRKgBdET",
        "colab_type": "code",
        "colab": {}
      },
      "source": [
        ""
      ],
      "execution_count": 0,
      "outputs": []
    }
  ]
}